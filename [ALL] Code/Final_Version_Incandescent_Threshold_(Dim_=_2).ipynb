{
  "cells": [
    {
      "cell_type": "markdown",
      "metadata": {
        "id": "vcGgHOchO0fN"
      },
      "source": [
        "## **Leveraging Variational Autoencoders (VAEs) for Classification of Anthropogenic Aerosols**\n",
        "\n",
        "By: Aaryan Doshi, Mentor: Dr. Lamb\n"
      ]
    },
    {
      "cell_type": "markdown",
      "metadata": {
        "id": "-SZPuudhPDiu"
      },
      "source": [
        "Install pyroVED package:"
      ]
    },
    {
      "cell_type": "code",
      "execution_count": null,
      "metadata": {
        "colab": {
          "base_uri": "https://localhost:8080/"
        },
        "id": "DbarJgF9KPu0",
        "outputId": "3d038ea7-e983-401d-ff5d-1a1055c66da5"
      },
      "outputs": [
        {
          "output_type": "stream",
          "name": "stdout",
          "text": [
            "  Preparing metadata (setup.py) ... \u001b[?25l\u001b[?25hdone\n",
            "\u001b[2K   \u001b[90m━━━━━━━━━━━━━━━━━━━━━━━━━━━━━━━━━━━━━━━━\u001b[0m \u001b[32m756.0/756.0 kB\u001b[0m \u001b[31m9.7 MB/s\u001b[0m eta \u001b[36m0:00:00\u001b[0m\n",
            "\u001b[2K   \u001b[90m━━━━━━━━━━━━━━━━━━━━━━━━━━━━━━━━━━━━━━━━\u001b[0m \u001b[32m363.4/363.4 MB\u001b[0m \u001b[31m3.3 MB/s\u001b[0m eta \u001b[36m0:00:00\u001b[0m\n",
            "\u001b[2K   \u001b[90m━━━━━━━━━━━━━━━━━━━━━━━━━━━━━━━━━━━━━━━━\u001b[0m \u001b[32m13.8/13.8 MB\u001b[0m \u001b[31m125.3 MB/s\u001b[0m eta \u001b[36m0:00:00\u001b[0m\n",
            "\u001b[2K   \u001b[90m━━━━━━━━━━━━━━━━━━━━━━━━━━━━━━━━━━━━━━━━\u001b[0m \u001b[32m24.6/24.6 MB\u001b[0m \u001b[31m96.2 MB/s\u001b[0m eta \u001b[36m0:00:00\u001b[0m\n",
            "\u001b[2K   \u001b[90m━━━━━━━━━━━━━━━━━━━━━━━━━━━━━━━━━━━━━━━━\u001b[0m \u001b[32m883.7/883.7 kB\u001b[0m \u001b[31m46.2 MB/s\u001b[0m eta \u001b[36m0:00:00\u001b[0m\n",
            "\u001b[2K   \u001b[90m━━━━━━━━━━━━━━━━━━━━━━━━━━━━━━━━━━━━━━━━\u001b[0m \u001b[32m664.8/664.8 MB\u001b[0m \u001b[31m2.3 MB/s\u001b[0m eta \u001b[36m0:00:00\u001b[0m\n",
            "\u001b[2K   \u001b[90m━━━━━━━━━━━━━━━━━━━━━━━━━━━━━━━━━━━━━━━━\u001b[0m \u001b[32m211.5/211.5 MB\u001b[0m \u001b[31m5.3 MB/s\u001b[0m eta \u001b[36m0:00:00\u001b[0m\n",
            "\u001b[2K   \u001b[90m━━━━━━━━━━━━━━━━━━━━━━━━━━━━━━━━━━━━━━━━\u001b[0m \u001b[32m56.3/56.3 MB\u001b[0m \u001b[31m43.1 MB/s\u001b[0m eta \u001b[36m0:00:00\u001b[0m\n",
            "\u001b[2K   \u001b[90m━━━━━━━━━━━━━━━━━━━━━━━━━━━━━━━━━━━━━━━━\u001b[0m \u001b[32m127.9/127.9 MB\u001b[0m \u001b[31m18.9 MB/s\u001b[0m eta \u001b[36m0:00:00\u001b[0m\n",
            "\u001b[2K   \u001b[90m━━━━━━━━━━━━━━━━━━━━━━━━━━━━━━━━━━━━━━━━\u001b[0m \u001b[32m207.5/207.5 MB\u001b[0m \u001b[31m5.1 MB/s\u001b[0m eta \u001b[36m0:00:00\u001b[0m\n",
            "\u001b[2K   \u001b[90m━━━━━━━━━━━━━━━━━━━━━━━━━━━━━━━━━━━━━━━━\u001b[0m \u001b[32m21.1/21.1 MB\u001b[0m \u001b[31m104.8 MB/s\u001b[0m eta \u001b[36m0:00:00\u001b[0m\n",
            "\u001b[?25h  Building wheel for pyroved (setup.py) ... \u001b[?25l\u001b[?25hdone\n"
          ]
        }
      ],
      "source": [
        "# Install the latest version from source\n",
        "# (or you may install a stable version from PyPi instead with !pip install pyroved)\n",
        "!pip install -q git+https://github.com/ziatdinovmax/pyroved.git"
      ]
    },
    {
      "cell_type": "code",
      "execution_count": null,
      "metadata": {
        "id": "zV8rSm8rmjBj"
      },
      "outputs": [],
      "source": [
        "import os\n",
        "import math\n",
        "import numpy as np\n",
        "import seaborn as sns\n",
        "import pandas as pd\n",
        "import time\n",
        "import random\n",
        "\n",
        "import torch\n",
        "\n",
        "from torch.nn import Conv1d, ConvTranspose1d\n",
        "from torch.nn import Linear as Lin, ReLU, Sigmoid, ConstantPad1d\n",
        "from torch.utils.data import Dataset, DataLoader\n",
        "from sklearn.model_selection import StratifiedKFold\n",
        "\n",
        "from matplotlib import pyplot as plt\n",
        "from tqdm import tqdm"
      ]
    },
    {
      "cell_type": "code",
      "execution_count": null,
      "metadata": {
        "id": "gy7JuyJrD9_7"
      },
      "outputs": [],
      "source": [
        "import pyroved as pv\n",
        "import torch\n",
        "import matplotlib.pyplot as plt"
      ]
    },
    {
      "cell_type": "code",
      "execution_count": null,
      "metadata": {
        "colab": {
          "base_uri": "https://localhost:8080/"
        },
        "id": "EAwZAuOXmmNZ",
        "outputId": "d6feef74-cede-4312-f4bd-52785e40a1f2"
      },
      "outputs": [
        {
          "output_type": "stream",
          "name": "stdout",
          "text": [
            "Mounted at /content/drive\n"
          ]
        }
      ],
      "source": [
        "from google.colab import drive\n",
        "drive.mount('/content/drive')"
      ]
    },
    {
      "cell_type": "code",
      "execution_count": null,
      "metadata": {
        "id": "CEM0kQnlm35Q"
      },
      "outputs": [],
      "source": [
        "X_train = np.load(\"/content/drive/MyDrive/Aerosols_Proj/Lab_X_train.npy\")\n",
        "Y_train = np.load(\"/content/drive/MyDrive/Aerosols_Proj/Lab_Y_train.npy\")\n",
        "\n",
        "X_val = np.load(\"/content/drive/MyDrive/Aerosols_Proj/Lab_X_val.npy\")\n",
        "Y_val = np.load(\"/content/drive/MyDrive/Aerosols_Proj/Lab_Y_val.npy\")\n",
        "\n",
        "X_test = np.load(\"/content/drive/MyDrive/Aerosols_Proj/Lab_X_test.npy\")\n",
        "Y_test = np.load(\"/content/drive/MyDrive/Aerosols_Proj/Lab_Y_test.npy\")"
      ]
    },
    {
      "cell_type": "code",
      "source": [
        "# for reproducibility\n",
        "np.random.seed(0)\n",
        "torch.manual_seed(0)"
      ],
      "metadata": {
        "id": "rD3qNlAXY4_K",
        "colab": {
          "base_uri": "https://localhost:8080/"
        },
        "outputId": "2b3fd58b-5d9b-4251-b155-43388c61b2be"
      },
      "execution_count": null,
      "outputs": [
        {
          "output_type": "execute_result",
          "data": {
            "text/plain": [
              "<torch._C.Generator at 0x78458872f210>"
            ]
          },
          "metadata": {},
          "execution_count": 7
        }
      ]
    },
    {
      "cell_type": "code",
      "execution_count": null,
      "metadata": {
        "colab": {
          "base_uri": "https://localhost:8080/"
        },
        "id": "rQkYA_0KntEt",
        "outputId": "176e910b-34f2-4651-c464-1bb267267d7f"
      },
      "outputs": [
        {
          "output_type": "execute_result",
          "data": {
            "text/plain": [
              "(140082, 400, 4)"
            ]
          },
          "metadata": {},
          "execution_count": 8
        }
      ],
      "source": [
        "X_train.shape"
      ]
    },
    {
      "cell_type": "code",
      "execution_count": null,
      "metadata": {
        "colab": {
          "base_uri": "https://localhost:8080/"
        },
        "id": "qBzx3RpX6UZu",
        "outputId": "c18856ac-49f9-49ae-9335-2ab1128bb4bc"
      },
      "outputs": [
        {
          "output_type": "execute_result",
          "data": {
            "text/plain": [
              "(70042, 400, 4)"
            ]
          },
          "metadata": {},
          "execution_count": 9
        }
      ],
      "source": [
        "X_test.shape"
      ]
    },
    {
      "cell_type": "code",
      "execution_count": null,
      "metadata": {
        "colab": {
          "base_uri": "https://localhost:8080/"
        },
        "id": "7oQMVlHI6RlM",
        "outputId": "786f6079-9749-4427-8a6f-ada32046dba7"
      },
      "outputs": [
        {
          "output_type": "execute_result",
          "data": {
            "text/plain": [
              "(70041, 400, 4)"
            ]
          },
          "metadata": {},
          "execution_count": 10
        }
      ],
      "source": [
        "X_val.shape"
      ]
    },
    {
      "cell_type": "code",
      "execution_count": null,
      "metadata": {
        "colab": {
          "base_uri": "https://localhost:8080/"
        },
        "id": "VZRJ1jsBloXi",
        "outputId": "d44b35d5-9cf1-41d9-c32f-0f09008e747b"
      },
      "outputs": [
        {
          "output_type": "execute_result",
          "data": {
            "text/plain": [
              "(140082,)"
            ]
          },
          "metadata": {},
          "execution_count": 11
        }
      ],
      "source": [
        "Y_train.shape"
      ]
    },
    {
      "cell_type": "code",
      "source": [
        "import random\n",
        "import matplotlib.pyplot as plt\n",
        "\n",
        "for class_label in range(1, 7):\n",
        "    class_indices = [i for i, label in enumerate(Y_train) if label == class_label]\n",
        "\n",
        "    random_index = random.choice(class_indices)\n",
        "\n",
        "    fig, axes = plt.subplots(nrows=1, ncols=4, figsize=(12, 3))\n",
        "    axes[0].plot(X_train[random_index, :, 0])\n",
        "    axes[0].set_title(f\"Ch. 0 - Class {class_label}\")\n",
        "    axes[0].set_xticks([])\n",
        "    axes[0].set_yticks([])\n",
        "    axes[1].plot(X_train[random_index, :, 1])\n",
        "    axes[1].set_title(f\"Ch. 1 - Class {class_label}\")\n",
        "    axes[1].set_xticks([])\n",
        "    axes[1].set_yticks([])\n",
        "    axes[2].plot(X_train[random_index, :, 2])\n",
        "    axes[2].set_title(f\"Ch. 2 - Class {class_label}\")\n",
        "    axes[2].set_xticks([])\n",
        "    axes[2].set_yticks([])\n",
        "    axes[3].plot(X_train[random_index, :, 3])\n",
        "    axes[3].set_title(f\"Ch. 3 - Class {class_label}\")\n",
        "    axes[3].set_xticks([])\n",
        "    axes[3].set_yticks([])\n",
        "\n",
        "    plt.show()"
      ],
      "metadata": {
        "id": "1ikYhhrAWw9y"
      },
      "execution_count": null,
      "outputs": []
    },
    {
      "cell_type": "code",
      "source": [
        "n = random.randint(1, 140081)\n",
        "fig, axes = plt.subplots(nrows=1, ncols=4, figsize=(12,3))\n",
        "axes[0].plot(X_train[n,:,0])\n",
        "axes[0].set_title(\"Ch. 0\")\n",
        "axes[1].plot(X_train[n,:,1])\n",
        "axes[1].set_title(\"Ch. 1\")\n",
        "axes[2].plot(X_train[n,:,2])\n",
        "axes[2].set_title(\"Ch. 2\")\n",
        "axes[3].plot(X_train[n,:,3])\n",
        "axes[3].set_title(\"Ch. 3\")\n",
        "\n",
        "random_indices = [random.randint(0, 140081) for _ in range(5)]\n",
        "\n",
        "for idx in random_indices:\n",
        "    print(X_train[idx, 199, :])\n",
        "\n",
        "# print out the channel 0, 1, 2, 3, 4 for one random aerosol sample in X_train.\n",
        "# this will be across a 400 point time series\n"
      ],
      "metadata": {
        "id": "FnZhfPRlWyxv"
      },
      "execution_count": null,
      "outputs": []
    },
    {
      "cell_type": "code",
      "execution_count": null,
      "metadata": {
        "colab": {
          "base_uri": "https://localhost:8080/"
        },
        "id": "W-lEmiu7P_bC",
        "outputId": "2290e835-07f0-477c-be9b-0fd9ae4c0505"
      },
      "outputs": [
        {
          "output_type": "execute_result",
          "data": {
            "text/plain": [
              "(140082,)"
            ]
          },
          "metadata": {},
          "execution_count": 15
        }
      ],
      "source": [
        "Y_train.shape"
      ]
    },
    {
      "cell_type": "code",
      "execution_count": null,
      "metadata": {
        "id": "Jn5_An47wPQK"
      },
      "outputs": [],
      "source": [
        "# APPLY INCANDESCENT THRESHOLD\n",
        "mask = np.any(X_train[:, :, 1] > 0.2, axis=1)\n",
        "X_train = X_train[mask]\n",
        "Y_train = Y_train[mask]"
      ]
    },
    {
      "cell_type": "code",
      "execution_count": null,
      "metadata": {
        "colab": {
          "base_uri": "https://localhost:8080/"
        },
        "id": "FyTLCtd_T3uY",
        "outputId": "f85901f0-bc35-4eb7-da59-2a1a4f748b3f"
      },
      "outputs": [
        {
          "output_type": "stream",
          "name": "stdout",
          "text": [
            "Different aerosol classes detectable incandesence:\n",
            "Class 0.0: Before = 19660, After = 19660, Percentage = 100.00%\n",
            "Class 1.0: Before = 16223, After = 16223, Percentage = 100.00%\n",
            "Class 2.0: Before = 1706, After = 1706, Percentage = 100.00%\n",
            "Class 3.0: Before = 4786, After = 4786, Percentage = 100.00%\n",
            "Class 4.0: Before = 5402, After = 5402, Percentage = 100.00%\n",
            "Class 5.0: Before = 18377, After = 18377, Percentage = 100.00%\n",
            "Class 6.0: Before = 19678, After = 19678, Percentage = 100.00%\n"
          ]
        }
      ],
      "source": [
        "import numpy as np\n",
        "\n",
        "unique_classes_orig, class_counts_orig = np.unique(Y_train, return_counts=True)\n",
        "\n",
        "mask = np.any(X_train[:, :, 1] > 0.2, axis=1)\n",
        "X_train_filtered = X_train[mask]\n",
        "Y_train_filtered = Y_train[mask]\n",
        "\n",
        "unique_classes_after, class_counts_after = np.unique(Y_train_filtered, return_counts=True)\n",
        "\n",
        "print(\"Different aerosol classes detectable incandesence:\")\n",
        "for cls in unique_classes_orig:\n",
        "    count_orig = class_counts_orig[unique_classes_orig == cls][0]\n",
        "    count_after = class_counts_after[unique_classes_after == cls][0] if cls in unique_classes_after else 0\n",
        "    percentage_change = (count_after / count_orig) * 100 if count_orig > 0 else 0\n",
        "    print(f\"Class {cls}: Before = {count_orig}, After = {count_after}, Percentage = {percentage_change:.2f}%\")"
      ]
    },
    {
      "cell_type": "code",
      "execution_count": null,
      "metadata": {
        "colab": {
          "base_uri": "https://localhost:8080/"
        },
        "id": "Qzlt0rBO0vON",
        "outputId": "6d94d5dd-b457-4732-9d7c-49407f3fa88b"
      },
      "outputs": [
        {
          "output_type": "execute_result",
          "data": {
            "text/plain": [
              "(85832, 400, 4)"
            ]
          },
          "metadata": {},
          "execution_count": 18
        }
      ],
      "source": [
        "X_train.shape"
      ]
    },
    {
      "cell_type": "code",
      "execution_count": null,
      "metadata": {
        "colab": {
          "base_uri": "https://localhost:8080/"
        },
        "id": "GVUTYAms1Bck",
        "outputId": "996c7a07-9b21-4558-8795-caf5fa2513af"
      },
      "outputs": [
        {
          "output_type": "execute_result",
          "data": {
            "text/plain": [
              "(85832,)"
            ]
          },
          "metadata": {},
          "execution_count": 19
        }
      ],
      "source": [
        "Y_train.shape"
      ]
    },
    {
      "cell_type": "code",
      "execution_count": null,
      "metadata": {
        "id": "WSI0nrDkqgXj"
      },
      "outputs": [],
      "source": [
        "original_max_X_train = np.zeros((len(X_train), 4))\n",
        "for p_idx in range(len(X_train)):\n",
        "  for c_idx in range(4):\n",
        "    original_max_X_train[p_idx][c_idx] = np.max(X_train[p_idx, :, c_idx])\n"
      ]
    },
    {
      "cell_type": "code",
      "execution_count": null,
      "metadata": {
        "colab": {
          "base_uri": "https://localhost:8080/"
        },
        "id": "lvExEZCUzJhA",
        "outputId": "c7726509-3cbe-49d2-9caa-209e3e889fff"
      },
      "outputs": [
        {
          "output_type": "execute_result",
          "data": {
            "text/plain": [
              "(85832, 400, 4)"
            ]
          },
          "metadata": {},
          "execution_count": 21
        }
      ],
      "source": [
        "X_train.shape"
      ]
    },
    {
      "cell_type": "code",
      "execution_count": null,
      "metadata": {
        "colab": {
          "base_uri": "https://localhost:8080/"
        },
        "id": "nx25M9lVu4E6",
        "outputId": "415354e5-b419-4789-bfeb-dbcd185a0828"
      },
      "outputs": [
        {
          "output_type": "stream",
          "name": "stdout",
          "text": [
            "132.61664460622106\n"
          ]
        }
      ],
      "source": [
        "peak_height = np.max(X_train[:, :, 1])\n",
        "print(peak_height)"
      ]
    },
    {
      "cell_type": "code",
      "execution_count": null,
      "metadata": {
        "colab": {
          "base_uri": "https://localhost:8080/"
        },
        "id": "zJT9vzb3qaVn",
        "outputId": "dc17b750-113f-48e5-fa09-4b55b115c3fd"
      },
      "outputs": [
        {
          "output_type": "stream",
          "name": "stdout",
          "text": [
            "[ 0.25  0.5   0.25 ... 14.25  8.75 28.75]\n"
          ]
        },
        {
          "output_type": "execute_result",
          "data": {
            "text/plain": [
              "(85832,)"
            ]
          },
          "metadata": {},
          "execution_count": 23
        }
      ],
      "source": [
        "#SATURATION NUMERIC\n",
        "\n",
        "#creating a more accurate delta eps values.\n",
        "\n",
        "# Specify  epsilon value, like how tolerant will be to change\n",
        "eps = 0.001\n",
        "\n",
        "# Step 1: Find the maximum signal per particle in Channel 0\n",
        "max_signal_channel_0 = np.max(X_train[:, :, 0], axis=1)\n",
        "\n",
        "# Step 2: Count the number of points within epsilon of the maximum for each particle in Channel 0\n",
        "# This comparison now includes the epsilon tolerance around the maximum signal\n",
        "count_max_signal_channel_0 = np.sum((X_train[:, :, 0] >= (max_signal_channel_0[:, np.newaxis] - eps)) &\n",
        "                                    (X_train[:, :, 0] <= (max_signal_channel_0[:, np.newaxis] + eps)), axis=1)\n",
        "\n",
        "print(count_max_signal_channel_0/400*100)\n",
        "count_max_signal_channel_0.shape\n"
      ]
    },
    {
      "cell_type": "code",
      "execution_count": null,
      "metadata": {
        "colab": {
          "base_uri": "https://localhost:8080/"
        },
        "id": "XOwRgSI0SKiF",
        "outputId": "36ebf4d3-e75a-4508-95d0-292c6153aa49"
      },
      "outputs": [
        {
          "output_type": "execute_result",
          "data": {
            "text/plain": [
              "array([1.11002002, 1.08262394, 1.21032505, ..., 1.52508171, 1.49707908,\n",
              "       1.61149563])"
            ]
          },
          "metadata": {},
          "execution_count": 24
        }
      ],
      "source": [
        "max1 = np.max(X_train[:, :, 1], axis=1)\n",
        "max2 = np.max(X_train[:, :, 2], axis=1)\n",
        "\n",
        "# Calculate the color channel ratio for all 400 points\n",
        "color_channel_ratio = max2 / max1\n",
        "\n",
        "color_channel_ratio"
      ]
    },
    {
      "cell_type": "code",
      "source": [
        "channel_min_X_train = np.zeros((len(X_train), 4))\n",
        "channel_max_X_train = np.zeros((len(X_train), 4))\n",
        "\n",
        "# WOULD APPLY SAME LOGIC TO VALIDATION AND TEST DATASETS\n",
        "\n",
        "for p_idx in range(len(X_train)):\n",
        "  for c_idx in range(4):\n",
        "    channel_min_X_train[p_idx][c_idx] = np.min(X_train[p_idx, :, c_idx])\n",
        "\n",
        "  for c_idx in range(4):\n",
        "    channel_max_X_train[p_idx][c_idx] = np.max(X_train[p_idx, :, c_idx])\n",
        "\n",
        "\n",
        "for p_idx in range (0,len(X_train)):\n",
        "  for c_idx in range(0, 4):\n",
        "    s0 = (X_train[p_idx,:,c_idx] - channel_min_X_train[p_idx][c_idx])/(channel_max_X_train[p_idx][c_idx]- channel_min_X_train[p_idx][c_idx])\n",
        "    X_train[p_idx,:,c_idx] = s0\n",
        "\n",
        "X_train"
      ],
      "metadata": {
        "id": "NVgK-5wLXEjt"
      },
      "execution_count": null,
      "outputs": []
    },
    {
      "cell_type": "code",
      "execution_count": null,
      "metadata": {
        "colab": {
          "base_uri": "https://localhost:8080/"
        },
        "id": "_m5dm_PJZPzY",
        "outputId": "57606785-e9c0-4116-f537-574b619330dc"
      },
      "outputs": [
        {
          "output_type": "stream",
          "name": "stdout",
          "text": [
            "<class 'numpy.ndarray'>\n"
          ]
        }
      ],
      "source": [
        "print(type(X_train))"
      ]
    },
    {
      "cell_type": "code",
      "execution_count": null,
      "metadata": {
        "colab": {
          "base_uri": "https://localhost:8080/",
          "height": 17
        },
        "id": "FVZ0sX9dUHPx",
        "outputId": "0e78ff7b-04ca-4a2d-dabd-c9f554b91f00"
      },
      "outputs": [
        {
          "output_type": "display_data",
          "data": {
            "text/plain": [
              "<IPython.core.display.Javascript object>"
            ],
            "application/javascript": [
              "\n",
              "    async function download(id, filename, size) {\n",
              "      if (!google.colab.kernel.accessAllowed) {\n",
              "        return;\n",
              "      }\n",
              "      const div = document.createElement('div');\n",
              "      const label = document.createElement('label');\n",
              "      label.textContent = `Downloading \"${filename}\": `;\n",
              "      div.appendChild(label);\n",
              "      const progress = document.createElement('progress');\n",
              "      progress.max = size;\n",
              "      div.appendChild(progress);\n",
              "      document.body.appendChild(div);\n",
              "\n",
              "      const buffers = [];\n",
              "      let downloaded = 0;\n",
              "\n",
              "      const channel = await google.colab.kernel.comms.open(id);\n",
              "      // Send a message to notify the kernel that we're ready.\n",
              "      channel.send({})\n",
              "\n",
              "      for await (const message of channel.messages) {\n",
              "        // Send a message to notify the kernel that we're ready.\n",
              "        channel.send({})\n",
              "        if (message.buffers) {\n",
              "          for (const buffer of message.buffers) {\n",
              "            buffers.push(buffer);\n",
              "            downloaded += buffer.byteLength;\n",
              "            progress.value = downloaded;\n",
              "          }\n",
              "        }\n",
              "      }\n",
              "      const blob = new Blob(buffers, {type: 'application/binary'});\n",
              "      const a = document.createElement('a');\n",
              "      a.href = window.URL.createObjectURL(blob);\n",
              "      a.download = filename;\n",
              "      div.appendChild(a);\n",
              "      a.click();\n",
              "      div.remove();\n",
              "    }\n",
              "  "
            ]
          },
          "metadata": {}
        },
        {
          "output_type": "display_data",
          "data": {
            "text/plain": [
              "<IPython.core.display.Javascript object>"
            ],
            "application/javascript": [
              "download(\"download_11948fbf-dbc4-4099-b9ac-30835e7a3e89\", \"high_res_figure.png\", 358519)"
            ]
          },
          "metadata": {}
        }
      ],
      "source": [
        "X_train_C0 = torch.from_numpy(X_train[:,:, 0]).float()\n",
        "\n",
        "train_loader_0 = pv.utils.init_dataloader(X_train_C0.unsqueeze(1), batch_size=64)\n",
        "\n",
        "fig, axes = plt.subplots(8, 8, figsize=(8, 8), dpi=300,\n",
        "                         subplot_kw={'xticks':[], 'yticks':[]},\n",
        "                         gridspec_kw=dict(hspace=0.1, wspace=0.1))\n",
        "\n",
        "for ax, (y,) in zip(axes.flat, train_loader_0):\n",
        "    y_use = y.numpy()\n",
        "    ax.plot(y_use[0, 0])\n",
        "\n",
        "plt.savefig('high_res_figure.png', dpi=300)\n",
        "plt.close(fig)\n",
        "\n",
        "from google.colab import files\n",
        "files.download('high_res_figure.png')"
      ]
    },
    {
      "cell_type": "code",
      "execution_count": null,
      "metadata": {
        "colab": {
          "base_uri": "https://localhost:8080/",
          "height": 17
        },
        "id": "yTgJmMM9x_5s",
        "outputId": "3a348f9d-a6a6-481d-d915-597b8f9ac047"
      },
      "outputs": [
        {
          "output_type": "display_data",
          "data": {
            "text/plain": [
              "<IPython.core.display.Javascript object>"
            ],
            "application/javascript": [
              "\n",
              "    async function download(id, filename, size) {\n",
              "      if (!google.colab.kernel.accessAllowed) {\n",
              "        return;\n",
              "      }\n",
              "      const div = document.createElement('div');\n",
              "      const label = document.createElement('label');\n",
              "      label.textContent = `Downloading \"${filename}\": `;\n",
              "      div.appendChild(label);\n",
              "      const progress = document.createElement('progress');\n",
              "      progress.max = size;\n",
              "      div.appendChild(progress);\n",
              "      document.body.appendChild(div);\n",
              "\n",
              "      const buffers = [];\n",
              "      let downloaded = 0;\n",
              "\n",
              "      const channel = await google.colab.kernel.comms.open(id);\n",
              "      // Send a message to notify the kernel that we're ready.\n",
              "      channel.send({})\n",
              "\n",
              "      for await (const message of channel.messages) {\n",
              "        // Send a message to notify the kernel that we're ready.\n",
              "        channel.send({})\n",
              "        if (message.buffers) {\n",
              "          for (const buffer of message.buffers) {\n",
              "            buffers.push(buffer);\n",
              "            downloaded += buffer.byteLength;\n",
              "            progress.value = downloaded;\n",
              "          }\n",
              "        }\n",
              "      }\n",
              "      const blob = new Blob(buffers, {type: 'application/binary'});\n",
              "      const a = document.createElement('a');\n",
              "      a.href = window.URL.createObjectURL(blob);\n",
              "      a.download = filename;\n",
              "      div.appendChild(a);\n",
              "      a.click();\n",
              "      div.remove();\n",
              "    }\n",
              "  "
            ]
          },
          "metadata": {}
        },
        {
          "output_type": "display_data",
          "data": {
            "text/plain": [
              "<IPython.core.display.Javascript object>"
            ],
            "application/javascript": [
              "download(\"download_aa5198a7-1b86-470b-b89d-06dcc0df84db\", \"high_res_figure_channel_1.png\", 313970)"
            ]
          },
          "metadata": {}
        }
      ],
      "source": [
        "X_train_C1 = torch.from_numpy(X_train[:,:, 1]).float()\n",
        "\n",
        "train_loader_1 = pv.utils.init_dataloader(X_train_C1.unsqueeze(1), batch_size=64)\n",
        "\n",
        "fig, axes = plt.subplots(8, 8, figsize=(8, 8), dpi=300,\n",
        "                         subplot_kw={'xticks':[], 'yticks':[]},\n",
        "                         gridspec_kw=dict(hspace=0.1, wspace=0.1))\n",
        "\n",
        "for ax, (y,) in zip(axes.flat, train_loader_1):\n",
        "    y_use = y.numpy()\n",
        "    ax.plot(y_use[0, 0])\n",
        "\n",
        "plt.savefig('high_res_figure_channel_1.png', dpi=300)\n",
        "plt.close(fig)\n",
        "\n",
        "from google.colab import files\n",
        "files.download('high_res_figure_channel_1.png')\n",
        "\n"
      ]
    },
    {
      "cell_type": "code",
      "source": [
        "channel_0 = (140081, )\n",
        "\n",
        "# Initialize vanilla VAE\n",
        "vae = pv.models.iVAE(data_dim = (400,), latent_dim = 2, invariances=None, sampler_d = 'gaussian', seed=0)\n",
        "\n",
        "# Initialize SVI trainer\n",
        "trainer = pv.trainers.SVItrainer(vae)\n",
        "\n",
        "# Train for n epochs:\n",
        "for e in range(55):\n",
        "    trainer.step(train_loader_0)\n",
        "    trainer.print_statistics()"
      ],
      "metadata": {
        "id": "GO-5-M6XXHcD"
      },
      "execution_count": null,
      "outputs": []
    },
    {
      "cell_type": "code",
      "source": [
        "# PATH = \"/content/drive/MyDrive/Aerosols_Proj/2D_VAE\"\n",
        "# torch.save(vae.state_dict(), PATH)"
      ],
      "metadata": {
        "id": "OTFIsWiop0nV"
      },
      "execution_count": null,
      "outputs": []
    },
    {
      "cell_type": "code",
      "source": [
        "# vae = pv.models.iVAE(data_dim = (400,), latent_dim = 2, invariances=None, sampler_d = 'gaussian', seed=0)\n",
        "# vae.load_state_dict(torch.load(PATH, weights_only=True))\n",
        "# vae.eval()"
      ],
      "metadata": {
        "id": "jIJpvHawrNpS"
      },
      "execution_count": null,
      "outputs": []
    },
    {
      "cell_type": "code",
      "source": [
        "# Manifold Channel 0\n",
        "vae.manifold2d(d = 10)"
      ],
      "metadata": {
        "id": "qE-UKnJPXPFG"
      },
      "execution_count": null,
      "outputs": []
    },
    {
      "cell_type": "code",
      "source": [
        "channel_1 = (140081, )\n",
        "\n",
        "# Initialize vanilla VAE\n",
        "\n",
        "vae = pv.models.iVAE(data_dim = (400,), latent_dim = 2, invariances=None, sampler_d = 'gaussian', seed=0)\n",
        "\n",
        "# Initialize SVI trainer\n",
        "trainer = pv.trainers.SVItrainer(vae)\n",
        "\n",
        "# Train for n epochs:\n",
        "for e in range(55):\n",
        "    trainer.step(train_loader_1)\n",
        "    trainer.print_statistics()"
      ],
      "metadata": {
        "id": "FUG8SnpFXUrz"
      },
      "execution_count": null,
      "outputs": []
    },
    {
      "cell_type": "markdown",
      "metadata": {
        "id": "9cwX2eW1Ppx0"
      },
      "source": [
        "**ANALYZING OUTLIERS + Encode the training data into the latent space:**"
      ]
    },
    {
      "cell_type": "code",
      "source": [
        "# Manifold Channel 1\n",
        "vae.manifold2d(d = 10)"
      ],
      "metadata": {
        "id": "YbcKaMOXXWr4"
      },
      "execution_count": null,
      "outputs": []
    },
    {
      "cell_type": "code",
      "source": [
        "# 2D PLOTS (NON-ADAPTIVE VERSION) --> CHANNEL 0\n",
        "\n",
        "# ANALYZING OUTLIERS\n",
        "from scipy.spatial.distance import cdist\n",
        "from matplotlib.colors import ListedColormap\n",
        "\n",
        "global outlier_indices\n",
        "\n",
        "def identify_outliers_with_percentages(latent_space, labels, z_threshold=3.0):\n",
        "    unique_labels = np.unique(labels)\n",
        "    outliers = []\n",
        "    all_distances = []\n",
        "    outlier_indices = []\n",
        "    # to implement outlier percentage by class\n",
        "    outlier_percentages = {}\n",
        "\n",
        "    for label in unique_labels:\n",
        "        cluster_points = latent_space[labels == label]\n",
        "        total_points = len(cluster_points)\n",
        "        centroid = cluster_points.mean(axis=0)\n",
        "        distances = cdist(cluster_points, [centroid], metric='euclidean').flatten()\n",
        "        all_distances.extend(distances)\n",
        "        mean_distance = distances.mean()\n",
        "        std_distance = distances.std()\n",
        "        threshold = mean_distance + z_threshold * std_distance\n",
        "        cluster_outliers = cluster_points[distances > threshold]\n",
        "\n",
        "        # calculating % of outliers per class (fly ash, dust, etc.)\n",
        "        # per class basis\n",
        "        num_outliers = len(cluster_outliers)\n",
        "        outlier_percent = (num_outliers / total_points) * 100 if total_points > 0 else 0\n",
        "        outlier_percentages[label] = outlier_percent\n",
        "\n",
        "        outliers.append(cluster_outliers)\n",
        "        outlier_indices.extend(np.where(labels == label)[0][distances > threshold])\n",
        "\n",
        "    if outliers:\n",
        "        all_outliers = np.vstack(outliers)\n",
        "    else:\n",
        "        all_outliers = np.array([]).reshape(0, latent_space.shape[1])\n",
        "\n",
        "    return all_outliers, all_distances, outlier_indices, outlier_percentages\n",
        "\n",
        "def plot_latent_space_with_threshold(z_threshold):\n",
        "    # Use updated function to calculate outliers and percentages\n",
        "    outliers, all_distances, outlier_indices, outlier_percentages = identify_outliers_with_percentages(z_mean, Y_train, z_threshold)\n",
        "\n",
        "    # Print percentage of outliers for each class\n",
        "    for label, percentage in outlier_percentages.items():\n",
        "        print(f\"Class {label}: {percentage:.2f}% of points classified as outliers.\")\n",
        "\n",
        "    non_outlier_mask = np.ones(len(z_mean), dtype=bool)\n",
        "    non_outlier_mask[outlier_indices] = False\n",
        "\n",
        "    z_mean_filtered = z_mean[non_outlier_mask]\n",
        "    Y_train_filtered = Y_train[non_outlier_mask]\n",
        "\n",
        "    # removing atd, cfa, va\n",
        "    classes_to_remove = [3, 2, 4]\n",
        "    class_mask = ~np.isin(Y_train_filtered, classes_to_remove)\n",
        "\n",
        "    z_mean_class_filtered = z_mean_filtered[class_mask]\n",
        "    Y_train_class_filtered = Y_train_filtered[class_mask]\n",
        "\n",
        "    fig, axes = plt.subplots(1, 4, figsize=(60, 12), dpi=300)\n",
        "\n",
        "    target_names = [\"FS\", \"FSglyc\", \"CFA\", \"ATD\", \"VA\", \"Fe2O3\", \"Fe3O4\"]\n",
        "    cmap1 = ListedColormap(['red', 'purple', 'yellow', 'gray', 'brown', 'blue', 'green'])\n",
        "\n",
        "    # trying to plot the original latent space\n",
        "    im1 = axes[0].scatter(z_mean[:, -1], z_mean[:, -2], s=1, c=Y_train, cmap=cmap1, label='Data Points')\n",
        "    axes[0].set_title(f\"Original Latent Space (z_threshold = {z_threshold})\", fontsize=21)\n",
        "    axes[0].set_xlabel(\"$z_1$\", fontsize=21)\n",
        "    axes[0].set_ylabel(\"$z_2$\", fontsize=21)\n",
        "    axes[0].legend(fontsize=21)\n",
        "    axes[0].tick_params(axis='both', which='major', labelsize=21)\n",
        "    cbar1 = fig.colorbar(im1, ax=axes[0], ticks=range(len(cmap1.colors)), shrink=.8)\n",
        "    cbar1.set_ticklabels(target_names, fontsize=21)\n",
        "    cbar1.set_label(\"$\\mu$\", fontsize=21)\n",
        "\n",
        "    # trying to plot the latent space without outliers\n",
        "    im2 = axes[1].scatter(z_mean_filtered[:, -1], z_mean_filtered[:, -2], s=1, c=Y_train_filtered, cmap=cmap1, label='Data Points')\n",
        "    axes[1].set_title(\"Latent Space without Outliers\", fontsize=21)\n",
        "    axes[1].set_xlabel(\"$z_1$\", fontsize=21)\n",
        "    axes[1].set_ylabel(\"$z_2$\", fontsize=21)\n",
        "    axes[1].legend(fontsize=21)\n",
        "    axes[1].tick_params(axis='both', which='major', labelsize=21)\n",
        "    cbar2 = fig.colorbar(im2, ax=axes[1], ticks=range(len(cmap1.colors)), shrink=.8)\n",
        "    cbar2.set_ticklabels(target_names, fontsize=21)\n",
        "    cbar2.set_label(\"$\\mu$\", fontsize=21)\n",
        "\n",
        "    # trying to plot the outliers specifically\n",
        "    im3 = axes[2].scatter(z_mean[:, -1], z_mean[:, -2], s=1, c=Y_train, cmap=cmap1, label='Data Points')\n",
        "    axes[2].scatter(outliers[:, -1], outliers[:, -2], s=10, c='black', marker='x', label='Outliers')\n",
        "    axes[2].set_title(\"Outliers in Latent Space\", fontsize=21)\n",
        "    axes[2].set_xlabel(\"$z_1$\", fontsize=21)\n",
        "    axes[2].set_ylabel(\"$z_2$\", fontsize=21)\n",
        "    axes[2].legend(fontsize=21)\n",
        "    axes[2].tick_params(axis='both', which='major', labelsize=21)\n",
        "    cbar3 = fig.colorbar(im3, ax=axes[2], ticks=range(len(cmap1.colors)), shrink=.8)\n",
        "    cbar3.set_ticklabels(target_names, fontsize=21)\n",
        "    cbar3.set_label(\"$\\mu$\", fontsize=21)\n",
        "\n",
        "    # this one to have latent space wo specific classes\n",
        "    im4 = axes[3].scatter(z_mean_class_filtered[:, -1], z_mean_class_filtered[:, -2], s=1, c=Y_train_class_filtered, cmap=cmap1, label='Data Points')\n",
        "    axes[3].set_title(\"Latent Space without ATD, CFA, and VA\", fontsize=21)\n",
        "    axes[3].set_xlabel(\"$z_1$\", fontsize=21)\n",
        "    axes[3].set_ylabel(\"$z_2$\", fontsize=21)\n",
        "    axes[2].legend(fontsize=21)\n",
        "    axes[2].tick_params(axis='both', which='major', labelsize=21)\n",
        "    cbar4 = fig.colorbar(im4, ax=axes[3], ticks=range(len(cmap1.colors)), shrink=.8)\n",
        "    cbar4.set_ticklabels(target_names, fontsize=21)\n",
        "    cbar4.set_label(\"$\\mu$\", fontsize=21)\n",
        "\n",
        "z_mean, z_sd = vae.encode(X_train_C0)\n",
        "\n",
        "plot_latent_space_with_threshold(0.0001)\n",
        "plot_latent_space_with_threshold(2.0)\n",
        "\n",
        "plt.show()\n"
      ],
      "metadata": {
        "id": "TNo82Zs0XZIR"
      },
      "execution_count": null,
      "outputs": []
    },
    {
      "cell_type": "code",
      "source": [
        "# 2D PLOTS (NON-ADAPTIVE VERSION) --> CHANNEL 1\n",
        "\n",
        "import numpy as np\n",
        "import matplotlib.pyplot as plt\n",
        "from scipy.spatial.distance import cdist\n",
        "from matplotlib.colors import ListedColormap\n",
        "\n",
        "def identify_outliers_with_percentages(latent_space, labels, z_threshold=3.0):\n",
        "    unique_labels = np.unique(labels)\n",
        "    outliers = []\n",
        "    all_distances = []\n",
        "    outlier_indices = []\n",
        "    outlier_percentages = {}\n",
        "\n",
        "    for label in unique_labels:\n",
        "        cluster_points = latent_space[labels == label]\n",
        "        total_points = len(cluster_points)  # Total points in the cluster\n",
        "        global_centroid = cluster_points.mean(axis=0)\n",
        "        distances = cdist(cluster_points, [global_centroid], metric='euclidean').flatten()\n",
        "        all_distances.extend(distances)\n",
        "        mean_distance = distances.mean()\n",
        "        std_distance = distances.std()\n",
        "        threshold = mean_distance + z_threshold * std_distance\n",
        "        cluster_outliers = cluster_points[distances > threshold]\n",
        "\n",
        "        # calculating % of outliers per class (fly ash, dust, etc.)\n",
        "        # per class basis\n",
        "        num_outliers = len(cluster_outliers)\n",
        "        outlier_percent = (num_outliers / total_points) * 100 if total_points > 0 else 0\n",
        "        outlier_percentages[label] = outlier_percent\n",
        "\n",
        "        outliers.append(cluster_outliers)\n",
        "        outlier_indices.extend(np.where(labels == label)[0][distances > threshold])\n",
        "\n",
        "\n",
        "\n",
        "    if outliers:\n",
        "        all_outliers = np.vstack(outliers)\n",
        "    else:\n",
        "        all_outliers = np.array([]).reshape(0, latent_space.shape[1])\n",
        "\n",
        "    return all_outliers, all_distances, outlier_indices, outlier_percentages\n",
        "\n",
        "def plot_latent_space_with_threshold(z_threshold):\n",
        "    # Use updated function to calculate outliers and percentages\n",
        "    outliers, all_distances, outlier_indices, outlier_percentages = identify_outliers_with_percentages(z_mean_1, Y_train, z_threshold)\n",
        "\n",
        "    # Print percentage of outliers for each class\n",
        "    for label, percentage in outlier_percentages.items():\n",
        "        print(f\"Class {label}: {percentage:.2f}% of points classified as outliers.\")\n",
        "\n",
        "    non_outlier_mask = np.ones(len(z_mean_1), dtype=bool)\n",
        "    non_outlier_mask[outlier_indices] = False\n",
        "\n",
        "    z_mean_filtered = z_mean_1[non_outlier_mask]\n",
        "    Y_train_filtered = Y_train[non_outlier_mask]\n",
        "\n",
        "    classes_to_remove = [3, 2, 4]\n",
        "    class_mask = ~np.isin(Y_train_filtered, classes_to_remove)\n",
        "\n",
        "    z_mean_class_filtered = z_mean_filtered[class_mask]\n",
        "    Y_train_class_filtered = Y_train_filtered[class_mask]\n",
        "\n",
        "    fig, axs = plt.subplots(1, 3, figsize=(24, 8), dpi=300)\n",
        "\n",
        "    target_names = [\"FS\", \"FSglyc\", \"CFA\", \"ATD\", \"VA\", \"Fe2O3\", \"Fe3O4\"]\n",
        "    cmap1 = ListedColormap(['red', 'purple', 'yellow', 'gray', 'brown', 'blue', 'green'])\n",
        "\n",
        "    font_size = 12\n",
        "    colorbar_shrink = 0.5\n",
        "\n",
        "    # Plot original latent space\n",
        "    im1 = axs[0].scatter(z_mean_1[:, -1], z_mean_1[:, -2], s=1, c=Y_train, cmap=cmap1)\n",
        "    axs[0].set_title(f\"Original Latent Space (z_threshold = {z_threshold})\", fontsize=font_size)\n",
        "    axs[0].set_xlabel(\"$z_2$\", fontsize=font_size)\n",
        "    axs[0].set_ylabel(\"$z_3$\", fontsize=font_size)\n",
        "    cbar1 = fig.colorbar(im1, ax=axs[0], ticks=range(len(cmap1.colors)), shrink=colorbar_shrink)\n",
        "    cbar1.set_ticklabels(target_names)\n",
        "    cbar1.set_label(\"$\\mu$\", fontsize=font_size)\n",
        "\n",
        "    # Plot latent space without outliers\n",
        "    im2 = axs[1].scatter(z_mean_filtered[:, -1], z_mean_filtered[:, -2], s=1, c=Y_train_filtered, cmap=cmap1)\n",
        "    axs[1].set_title(\"Latent Space without Outliers\", fontsize=font_size)\n",
        "    axs[1].set_xlabel(\"$z_2$\", fontsize=font_size)\n",
        "    axs[1].set_ylabel(\"$z_3$\", fontsize=font_size)\n",
        "    cbar2 = fig.colorbar(im2, ax=axs[1], ticks=range(len(cmap1.colors)), shrink=colorbar_shrink)\n",
        "    cbar2.set_ticklabels(target_names)\n",
        "    cbar2.set_label(\"$\\mu$\", fontsize=font_size)\n",
        "\n",
        "    # Plot the outliers specifically\n",
        "    im3 = axs[2].scatter(z_mean_1[:, -2], z_mean_1[:, -1], s=1, c=Y_train, cmap=cmap1)\n",
        "    axs[2].scatter(outliers[:, -2], outliers[:, -1], s=10, c='black', marker='x', label='Outliers')\n",
        "    axs[2].set_title(\"Outliers in Latent Space\", fontsize=font_size)\n",
        "    axs[2].set_xlabel(\"$z_2$\", fontsize=font_size)\n",
        "    axs[2].set_ylabel(\"$z_3$\", fontsize=font_size)\n",
        "    cbar3 = fig.colorbar(im3, ax=axs[2], ticks=range(len(cmap1.colors)), shrink=colorbar_shrink)\n",
        "    cbar3.set_ticklabels(target_names)\n",
        "    cbar3.set_label(\"$\\mu$\", fontsize=font_size)\n",
        "    axs[2].legend(fontsize=font_size)\n",
        "\n",
        "    plt.show()\n",
        "\n",
        "z_mean_1, z_sd_1 = vae.encode(X_train_C1)\n",
        "\n",
        "plot_latent_space_with_threshold(3.0)\n",
        "plot_latent_space_with_threshold(2.0)\n"
      ],
      "metadata": {
        "id": "HGDjQi8dXck2"
      },
      "execution_count": null,
      "outputs": []
    },
    {
      "cell_type": "code",
      "source": [
        "import numpy as np\n",
        "import matplotlib.pyplot as plt\n",
        "from scipy.spatial.distance import cdist\n",
        "from matplotlib.colors import ListedColormap\n",
        "from matplotlib.patches import ConnectionPatch\n",
        "\n",
        "def identify_outliers_with_percentages(latent_space, labels, z_threshold=3.0):\n",
        "    unique_labels = np.unique(labels)\n",
        "    outliers = []\n",
        "    outlier_indices = []\n",
        "\n",
        "    for label in unique_labels:\n",
        "        cluster_points = latent_space[labels == label]\n",
        "        global_centroid = cluster_points.mean(axis=0)\n",
        "        distances = cdist(cluster_points, [global_centroid], metric='euclidean').flatten()\n",
        "\n",
        "        mean_distance = distances.mean()\n",
        "        std_distance = distances.std()\n",
        "        threshold = mean_distance + z_threshold * std_distance\n",
        "        cluster_outliers = cluster_points[distances > threshold]\n",
        "\n",
        "        outliers.append(cluster_outliers)\n",
        "        outlier_indices.extend(np.where(labels == label)[0][distances > threshold])\n",
        "\n",
        "    return np.vstack(outliers) if outliers else np.array([]), outlier_indices\n",
        "\n",
        "def plot_latent_space_with_signal(z_threshold, chosen_outlier_idx):\n",
        "    target_names = [\"FS\", \"FSglyc\", \"CFA\", \"ATD\", \"VA\", \"Fe2O3\", \"Fe3O4\"]\n",
        "    outliers, outlier_indices = identify_outliers_with_percentages(z_mean_1, Y_train, z_threshold)\n",
        "\n",
        "    fig = plt.figure(figsize=(14, 9), dpi=200)\n",
        "    gs = fig.add_gridspec(2, 2, width_ratios=[2, 1], height_ratios=[1, 1])\n",
        "\n",
        "    ax = fig.add_subplot(gs[:, 0])\n",
        "    cmap1 = ListedColormap(['red', 'purple', 'yellow', 'gray', 'brown', 'blue', 'green'])\n",
        "\n",
        "    ax.scatter(z_mean_1[:, -1], z_mean_1[:, -2], s=1, c=Y_train, cmap=cmap1)\n",
        "    ax.scatter(outliers[:, -1], outliers[:, -2], s=10, c='black', marker='x', label='Outliers')\n",
        "\n",
        "    chosen_outlier = z_mean_1[chosen_outlier_idx]\n",
        "    chosen_class = int(Y_train[chosen_outlier_idx])\n",
        "    chosen_color = cmap1.colors[chosen_class]\n",
        "    chosen_class_name = target_names[chosen_class]\n",
        "\n",
        "    ax.set_title(f\"Latent Space with Outliers - Selected: {chosen_class_name} (z_threshold = {z_threshold})\")\n",
        "    ax.set_xlabel(\"$z_3$\")\n",
        "    ax.set_ylabel(\"$z_4$\")\n",
        "\n",
        "    ax.scatter([], [], s=30, c=[chosen_color], marker='o', edgecolor='black', linewidth=1.2,\n",
        "               label=f'Selected Outlier ({chosen_class_name})')\n",
        "    ax.legend()\n",
        "\n",
        "    ax_signal = fig.add_subplot(gs[0, 1])\n",
        "    for ch in range(4):\n",
        "        ax_signal.plot(X_train[chosen_outlier_idx, :, ch], label=f\"Ch. {ch}\")\n",
        "\n",
        "    ax_signal.set_title(f\"Signal of Selected Outlier ({chosen_class_name})\")\n",
        "    ax_signal.legend(fontsize=8)\n",
        "    ax_signal.set_xlabel(\"Time\")\n",
        "    ax_signal.set_ylabel(\"Amplitude\")\n",
        "\n",
        "    gs_bottom = gs[1, 1].subgridspec(2, 2, wspace=0.5, hspace=0.5)\n",
        "    ax_ch = [fig.add_subplot(gs_bottom[i, j]) for i in range(2) for j in range(2)]\n",
        "\n",
        "    for ch in range(4):\n",
        "        ax_ch[ch].plot(X_train[chosen_outlier_idx, :, ch], color=f\"C{ch}\")\n",
        "        ax_ch[ch].set_title(f\"Channel {ch}\")\n",
        "        ax_ch[ch].set_xlabel(\"Time\")\n",
        "        ax_ch[ch].set_ylabel(\"Amplitude\")\n",
        "\n",
        "    con1 = ConnectionPatch(xyA=(chosen_outlier[-1], chosen_outlier[-2]), xyB=(-0.25, 0.75),\n",
        "                           coordsA=\"data\", coordsB=\"axes fraction\",\n",
        "                           axesA=ax, axesB=ax_signal,\n",
        "                           color=\"black\", linewidth=1.5, linestyle=\"dashed\", zorder=1)\n",
        "    fig.patches.append(con1)\n",
        "\n",
        "    con2 = ConnectionPatch(xyA=(chosen_outlier[-1], chosen_outlier[-2]), xyB=(-0.25, 0.05),\n",
        "                           coordsA=\"data\", coordsB=\"axes fraction\",\n",
        "                           axesA=ax, axesB=ax_ch[0],\n",
        "                           color=\"black\", linewidth=1.5, linestyle=\"dashed\", zorder=1)\n",
        "    fig.patches.append(con2)\n",
        "\n",
        "    ax.scatter(chosen_outlier[-2], chosen_outlier[-1], s=30,\n",
        "               c=[chosen_color], marker='o', edgecolor='black', linewidth=1.2, zorder=3)\n",
        "\n",
        "    plt.tight_layout()\n",
        "    filename = 'CFA Zoomed In Outlier.png'\n",
        "    plt.savefig(filename)\n",
        "    files.download(filename)\n",
        "    plt.show()\n",
        "\n",
        "\n",
        "outlier_indices = identify_outliers_with_percentages(z_mean_1, Y_train, 3.0)[1]\n",
        "# Fe3O4\n",
        "# chosen_outlier_idx = outlier_indices[905]\n",
        "# CFA\n",
        "chosen_outlier_idx = outlier_indices[680]\n",
        "\n",
        "plot_latent_space_with_signal(3.0, chosen_outlier_idx)\n"
      ],
      "metadata": {
        "id": "6k55eOZ6XfDh"
      },
      "execution_count": null,
      "outputs": []
    },
    {
      "cell_type": "code",
      "source": [
        "#2D Channel 0\n",
        "\n",
        "import matplotlib.pyplot as plt\n",
        "from matplotlib.colors import ListedColormap\n",
        "import numpy as np\n",
        "from google.colab import files\n",
        "\n",
        "z_mean, z_sd = vae.encode(X_train_C0)\n",
        "\n",
        "target_names = [\"FS\", \"FSglyc\", \"CFA\", \"ATD\", \"VA\", \"Fe2O3\", \"Fe3O4\"]\n",
        "cmap1 = ListedColormap(['red', 'purple', 'yellow', 'gray', 'brown', 'blue', 'green'])\n",
        "\n",
        "fig, axs = plt.subplots(2, 4, figsize=(20, 10))\n",
        "\n",
        "for idx_0 in range(7):\n",
        "    class_indices = np.where(Y_train == idx_0)\n",
        "    z_mean_class = z_mean[class_indices]\n",
        "\n",
        "    ax = axs[idx_0 // 4, idx_0 % 4]\n",
        "    ax.scatter(z_mean_class[:, -1], z_mean_class[:, -2], s=1, color=cmap1(idx_0), label=target_names[idx_0])\n",
        "    ax.set_xlabel(\"$z_1$\", fontsize=15, labelpad=10)\n",
        "    ax.set_ylabel(\"$z_2$\", fontsize=15, labelpad=10)\n",
        "    ax.legend(fontsize=11, loc='upper left')\n",
        "    ax.set_title(target_names[idx_0], fontsize=16)\n",
        "\n",
        "ax_all = axs[1, 3]\n",
        "for idx_0 in range(7):\n",
        "    class_indices = np.where(Y_train == idx_0)\n",
        "    z_mean_class = z_mean[class_indices]\n",
        "    ax_all.scatter(z_mean_class[:, -1], z_mean_class[:, -2], s=1, color=cmap1(idx_0), label=target_names[idx_0])\n",
        "\n",
        "ax_all.set_xlabel(\"$z_1$\", fontsize=15, labelpad=10)\n",
        "ax_all.set_ylabel(\"$z_2$\", fontsize=15, labelpad=10)\n",
        "ax_all.legend(fontsize=11, loc='upper left')\n",
        "ax_all.set_title(\"All Classes\", fontsize=16)\n",
        "\n",
        "plt.tight_layout(pad=3.0)\n",
        "filename = 'individualAerosolClass_Channel_0.png'\n",
        "plt.savefig(filename, dpi=300)\n",
        "plt.show()\n",
        "\n",
        "# High Resolution Download\n",
        "files.download(filename)\n",
        "\n"
      ],
      "metadata": {
        "id": "sjkjkivSXhUS"
      },
      "execution_count": null,
      "outputs": []
    },
    {
      "cell_type": "code",
      "source": [
        "#2D Channel 1\n",
        "\n",
        "import matplotlib.pyplot as plt\n",
        "from matplotlib.colors import ListedColormap\n",
        "import numpy as np\n",
        "from google.colab import files\n",
        "\n",
        "z_mean_1, z_sd_1 = vae.encode(X_train_C1)\n",
        "\n",
        "target_names = [\"FS\", \"FSglyc\", \"CFA\", \"ATD\", \"VA\", \"Fe2O3\", \"Fe3O4\"]\n",
        "cmap1 = ListedColormap(['red', 'purple', 'yellow', 'gray', 'brown', 'blue', 'green'])\n",
        "\n",
        "fig, axs = plt.subplots(2, 4, figsize=(20, 10))\n",
        "\n",
        "for idx_1 in range(7):\n",
        "    class_indices = np.where(Y_train == idx_1)\n",
        "    z_mean_class = z_mean_1[class_indices]\n",
        "\n",
        "    ax = axs[idx_1 // 4, idx_1 % 4]\n",
        "    ax.scatter(z_mean_class[:, -1], z_mean_class[:, -2], s=1, color=cmap1(idx_1), label=target_names[idx_1])\n",
        "    ax.set_xlabel(\"$z_3$\", fontsize=15, labelpad=10)\n",
        "    ax.set_ylabel(\"$z_4$\", fontsize=15, labelpad=10)\n",
        "    ax.legend(fontsize=11, loc='upper left')\n",
        "    ax.set_title(target_names[idx_1], fontsize=16)\n",
        "    ax.grid(False)\n",
        "\n",
        "# For the combined plot\n",
        "ax_all = axs[1, 3]\n",
        "for idx_1 in range(7):\n",
        "    class_indices = np.where(Y_train == idx_1)\n",
        "    z_mean_class = z_mean_1[class_indices]\n",
        "    ax_all.scatter(z_mean_class[:, -1], z_mean_class[:, -2], s=1, color=cmap1(idx_1), label=target_names[idx_1])\n",
        "\n",
        "ax_all.set_xlabel(\"$z_3$\", fontsize=15, labelpad=10)\n",
        "ax_all.set_ylabel(\"$z_4$\", fontsize=15, labelpad=10)\n",
        "ax_all.legend(fontsize=11, loc='upper left')\n",
        "ax_all.set_title(\"All Classes\", fontsize=16)\n",
        "ax.grid(False)\n",
        "\n",
        "plt.tight_layout(pad=3.0)\n",
        "filename = 'individualAerosolClass_Channel_1.png'\n",
        "plt.savefig(filename, dpi=300)\n",
        "plt.show()\n",
        "\n",
        "# High Resolution Download\n",
        "files.download(filename)"
      ],
      "metadata": {
        "id": "434Ln4cBX9WF"
      },
      "execution_count": null,
      "outputs": []
    },
    {
      "cell_type": "code",
      "execution_count": null,
      "metadata": {
        "colab": {
          "base_uri": "https://localhost:8080/"
        },
        "id": "eOD7V0PSnGZs",
        "outputId": "10d5bd17-fb75-43ea-c15d-ec7ca6827b1f"
      },
      "outputs": [
        {
          "output_type": "execute_result",
          "data": {
            "text/plain": [
              "torch.Size([85832, 400])"
            ]
          },
          "metadata": {},
          "execution_count": 50
        }
      ],
      "source": [
        "X_train_C0.shape"
      ]
    },
    {
      "cell_type": "code",
      "execution_count": null,
      "metadata": {
        "colab": {
          "base_uri": "https://localhost:8080/"
        },
        "id": "TAw2Lk8OqD8s",
        "outputId": "3886b292-35b0-4c25-f3ab-8aed96e03d15"
      },
      "outputs": [
        {
          "output_type": "execute_result",
          "data": {
            "text/plain": [
              "(85832, 400, 4)"
            ]
          },
          "metadata": {},
          "execution_count": 51
        }
      ],
      "source": [
        "X_train.shape"
      ]
    },
    {
      "cell_type": "code",
      "execution_count": null,
      "metadata": {
        "colab": {
          "base_uri": "https://localhost:8080/"
        },
        "id": "DAh9kr9wEOfR",
        "outputId": "f7921c58-6d2f-403d-d184-14aca3123ba6"
      },
      "outputs": [
        {
          "output_type": "execute_result",
          "data": {
            "text/plain": [
              "(85832, 4)"
            ]
          },
          "metadata": {},
          "execution_count": 52
        }
      ],
      "source": [
        "original_max_X_train.shape"
      ]
    },
    {
      "cell_type": "code",
      "execution_count": null,
      "metadata": {
        "colab": {
          "base_uri": "https://localhost:8080/"
        },
        "id": "otbzFtgiXzad",
        "outputId": "2a70ff87-b866-49d3-ff48-296cd763d127"
      },
      "outputs": [
        {
          "output_type": "execute_result",
          "data": {
            "text/plain": [
              "(85832, 1)"
            ]
          },
          "metadata": {},
          "execution_count": 53
        }
      ],
      "source": [
        "incandescent_max = []\n",
        "incandescent_max = original_max_X_train[:, 1]\n",
        "\n",
        "new_incandescent_max = np.expand_dims(incandescent_max, axis = 1)\n",
        "new_incandescent_max.shape"
      ]
    },
    {
      "cell_type": "code",
      "execution_count": null,
      "metadata": {
        "colab": {
          "base_uri": "https://localhost:8080/"
        },
        "id": "OhFs1Pv47xjm",
        "outputId": "1152263a-5160-4f24-a6c0-bef0bdd18f33"
      },
      "outputs": [
        {
          "output_type": "execute_result",
          "data": {
            "text/plain": [
              "(85832, 400, 4)"
            ]
          },
          "metadata": {},
          "execution_count": 54
        }
      ],
      "source": [
        "X_train.shape"
      ]
    },
    {
      "cell_type": "code",
      "execution_count": null,
      "metadata": {
        "colab": {
          "base_uri": "https://localhost:8080/"
        },
        "id": "EISl1-FsfyTP",
        "outputId": "85e04937-0203-4a9b-9f05-c2c7f805c2ba"
      },
      "outputs": [
        {
          "output_type": "execute_result",
          "data": {
            "text/plain": [
              "(85832, 1)"
            ]
          },
          "metadata": {},
          "execution_count": 55
        }
      ],
      "source": [
        "scattering = []\n",
        "scattering = original_max_X_train[:, 0]\n",
        "\n",
        "new_scattering = np.expand_dims(scattering, axis = 1)\n",
        "new_scattering.shape"
      ]
    },
    {
      "cell_type": "code",
      "execution_count": null,
      "metadata": {
        "colab": {
          "base_uri": "https://localhost:8080/"
        },
        "id": "OKM-5oCEb7Qw",
        "outputId": "cfacfad7-5347-4362-85c5-bcad308247fc"
      },
      "outputs": [
        {
          "output_type": "execute_result",
          "data": {
            "text/plain": [
              "torch.Size([85832, 2])"
            ]
          },
          "metadata": {},
          "execution_count": 56
        }
      ],
      "source": [
        "z_mean.shape"
      ]
    },
    {
      "cell_type": "code",
      "execution_count": null,
      "metadata": {
        "colab": {
          "base_uri": "https://localhost:8080/"
        },
        "id": "LZDNaET_8Um4",
        "outputId": "92490740-164c-423d-b476-30355108ed88"
      },
      "outputs": [
        {
          "output_type": "execute_result",
          "data": {
            "text/plain": [
              "torch.Size([85832, 2])"
            ]
          },
          "metadata": {},
          "execution_count": 57
        }
      ],
      "source": [
        "z_mean_1.shape"
      ]
    },
    {
      "cell_type": "code",
      "execution_count": null,
      "metadata": {
        "colab": {
          "base_uri": "https://localhost:8080/"
        },
        "id": "hmyTyuYu8aDh",
        "outputId": "270ab22e-eb70-48db-e9b7-2aa613d3c9b9"
      },
      "outputs": [
        {
          "output_type": "stream",
          "name": "stdout",
          "text": [
            "(85832, 2)\n",
            "(85832, 2)\n",
            "(85832, 1)\n",
            "(85832, 1)\n",
            "(85832,)\n"
          ]
        }
      ],
      "source": [
        "print(z_mean.numpy().shape)\n",
        "print(z_mean_1.numpy().shape)\n",
        "print(new_scattering.shape)\n",
        "print(new_incandescent_max.shape)\n",
        "print(color_channel_ratio.shape)\n"
      ]
    },
    {
      "cell_type": "code",
      "execution_count": null,
      "metadata": {
        "colab": {
          "base_uri": "https://localhost:8080/"
        },
        "id": "GTO1qh7pgw7F",
        "outputId": "51c42733-c8bc-4c06-b3d7-5851c2d9b7c5"
      },
      "outputs": [
        {
          "output_type": "execute_result",
          "data": {
            "text/plain": [
              "(85832, 1)"
            ]
          },
          "metadata": {},
          "execution_count": 59
        }
      ],
      "source": [
        "color_channel_ratio.shape\n",
        "color_channel_ratio = np.array(color_channel_ratio)\n",
        "color_channel_ratio = np.expand_dims(color_channel_ratio, axis = 1)\n",
        "\n",
        "color_channel_ratio.shape"
      ]
    },
    {
      "cell_type": "code",
      "execution_count": null,
      "metadata": {
        "colab": {
          "base_uri": "https://localhost:8080/"
        },
        "id": "mx-7wbjI9sPL",
        "outputId": "8446f0f1-6265-4630-b7b9-83b733228364"
      },
      "outputs": [
        {
          "output_type": "execute_result",
          "data": {
            "text/plain": [
              "(85832,)"
            ]
          },
          "metadata": {},
          "execution_count": 60
        }
      ],
      "source": [
        "np.count_nonzero(np.isinf(color_channel_ratio))\n",
        "bad_data = np.isinf(color_channel_ratio)\n",
        "bad_data = bad_data[:, 0]\n",
        "bad_data.shape"
      ]
    },
    {
      "cell_type": "code",
      "execution_count": null,
      "metadata": {
        "colab": {
          "base_uri": "https://localhost:8080/"
        },
        "id": "pJY7RhvAblQ_",
        "outputId": "d6ec78ce-61c5-42e1-e96c-697027065308"
      },
      "outputs": [
        {
          "output_type": "execute_result",
          "data": {
            "text/plain": [
              "(85832, 7)"
            ]
          },
          "metadata": {},
          "execution_count": 61
        }
      ],
      "source": [
        "from sklearn.preprocessing import MinMaxScaler\n",
        "X_all = np.concatenate((z_mean.numpy(), z_mean_1.numpy(), new_scattering, new_incandescent_max, color_channel_ratio), axis = 1)\n",
        "#X_all = np.concatenate (first two pca components ch. 0, first two pca components ch. 1, scattering, incades)\n",
        "#pass above line into random forest, and compare it with old random forest to see which is doing better. gives us more convincing analysis\n",
        "X_filtered = X_all[~bad_data,:]\n",
        "scaler = MinMaxScaler()\n",
        "X_scaled = scaler.fit_transform(X_filtered)\n",
        "X_scaled.shape"
      ]
    },
    {
      "cell_type": "code",
      "execution_count": null,
      "metadata": {
        "colab": {
          "base_uri": "https://localhost:8080/"
        },
        "id": "3sqb3_tP_KlX",
        "outputId": "596741cf-b411-4ce9-a520-8a19750fdd87"
      },
      "outputs": [
        {
          "output_type": "execute_result",
          "data": {
            "text/plain": [
              "(85832,)"
            ]
          },
          "metadata": {},
          "execution_count": 62
        }
      ],
      "source": [
        "Y_filtered = Y_train[~bad_data]\n",
        "Y_filtered\n",
        "Y_filtered.shape"
      ]
    },
    {
      "cell_type": "code",
      "execution_count": null,
      "metadata": {
        "colab": {
          "base_uri": "https://localhost:8080/"
        },
        "id": "MvmJAzuO7CNX",
        "outputId": "ba28b1ca-dc18-4f72-ff06-ec983f5709a3"
      },
      "outputs": [
        {
          "output_type": "execute_result",
          "data": {
            "text/plain": [
              "torch.Size([85832, 2])"
            ]
          },
          "metadata": {},
          "execution_count": 63
        }
      ],
      "source": [
        "z_mean.shape"
      ]
    },
    {
      "cell_type": "code",
      "execution_count": null,
      "metadata": {
        "colab": {
          "base_uri": "https://localhost:8080/"
        },
        "id": "MrmhPWMg7FaG",
        "outputId": "e91309ec-734d-4bc2-ea40-13059c169a62"
      },
      "outputs": [
        {
          "output_type": "execute_result",
          "data": {
            "text/plain": [
              "torch.Size([85832, 2])"
            ]
          },
          "metadata": {},
          "execution_count": 64
        }
      ],
      "source": [
        "z_mean_1.shape"
      ]
    },
    {
      "cell_type": "code",
      "execution_count": null,
      "metadata": {
        "colab": {
          "base_uri": "https://localhost:8080/"
        },
        "id": "XkG3sSf47ICQ",
        "outputId": "75e62cd3-4347-4242-9f4f-48c23094e03d"
      },
      "outputs": [
        {
          "output_type": "execute_result",
          "data": {
            "text/plain": [
              "(85832, 1)"
            ]
          },
          "metadata": {},
          "execution_count": 65
        }
      ],
      "source": [
        "new_scattering.shape"
      ]
    },
    {
      "cell_type": "code",
      "execution_count": null,
      "metadata": {
        "colab": {
          "base_uri": "https://localhost:8080/"
        },
        "id": "DO7LvQIgDTzo",
        "outputId": "d9fd877e-f900-4687-ea9a-306bfef36e9b"
      },
      "outputs": [
        {
          "output_type": "execute_result",
          "data": {
            "text/plain": [
              "array([[0.9186803 ],\n",
              "       [0.04637546],\n",
              "       [0.00833333],\n",
              "       ...,\n",
              "       [2.61570632],\n",
              "       [2.61654275],\n",
              "       [2.61728625]])"
            ]
          },
          "metadata": {},
          "execution_count": 66
        }
      ],
      "source": [
        "new_scattering"
      ]
    },
    {
      "cell_type": "code",
      "execution_count": null,
      "metadata": {
        "colab": {
          "base_uri": "https://localhost:8080/"
        },
        "id": "i1nolqabDdQ3",
        "outputId": "4dfc8e8c-2fbe-4b8a-86bd-6ebc2de343d5"
      },
      "outputs": [
        {
          "output_type": "execute_result",
          "data": {
            "text/plain": [
              "array([[13.22634017],\n",
              "       [ 1.65205162],\n",
              "       [ 0.43266049],\n",
              "       ...,\n",
              "       [23.28590338],\n",
              "       [ 9.48792191],\n",
              "       [23.54649239]])"
            ]
          },
          "metadata": {},
          "execution_count": 67
        }
      ],
      "source": [
        "new_incandescent_max"
      ]
    },
    {
      "cell_type": "code",
      "execution_count": null,
      "metadata": {
        "colab": {
          "base_uri": "https://localhost:8080/"
        },
        "id": "-9yHC8y1Ezaz",
        "outputId": "9572da0d-1ec6-476c-abd9-40ebe0269d2d"
      },
      "outputs": [
        {
          "output_type": "execute_result",
          "data": {
            "text/plain": [
              "array([[1.11002002],\n",
              "       [1.08262394],\n",
              "       [1.21032505],\n",
              "       ...,\n",
              "       [1.52508171],\n",
              "       [1.49707908],\n",
              "       [1.61149563]])"
            ]
          },
          "metadata": {},
          "execution_count": 68
        }
      ],
      "source": [
        "color_channel_ratio"
      ]
    },
    {
      "cell_type": "code",
      "source": [
        "from sklearn.cluster import KMeans\n",
        "import matplotlib.pyplot as plt\n",
        "import seaborn as sns\n",
        "import pandas as pd\n",
        "\n",
        "n_clusters = 7\n",
        "kmeans = KMeans(n_clusters=n_clusters, random_state=42).fit(X_scaled)\n",
        "\n",
        "kmeans_labels = kmeans.labels_\n",
        "kmeans_centers = kmeans.cluster_centers_\n",
        "\n",
        "data = pd.DataFrame(X_scaled, columns=['z1', 'z2', 'z3', 'z4', 'scattering_max', 'incandescent_max', 'color_ratio'])\n",
        "data['Cluster'] = kmeans_labels\n",
        "\n",
        "sns.set_theme(style=\"whitegrid\")\n",
        "plt.figure(figsize=(10, 8), dpi=300)\n",
        "sns.scatterplot(data=data, x='color_ratio', y='incandescent_max', hue='Cluster', palette='viridis', alpha=0.6)\n",
        "\n",
        "for center in kmeans_centers:\n",
        "    plt.scatter(center[4], center[3], s=200, c='red', marker='X')  # Mark cluster centers\n",
        "\n",
        "plt.title('K-means Clustering in 2D Latent Space')\n",
        "plt.xlabel('Color Ratio')\n",
        "plt.ylabel('Incandescent Max')\n",
        "plt.xlim(0, 0.2)\n",
        "plt.legend(title='Cluster')\n",
        "\n",
        "plt.savefig('kmeans_clustering_high_res.png', dpi=300)\n",
        "\n",
        "plt.show()\n",
        "\n",
        "from google.colab import files\n",
        "files.download('kmeans_clustering_high_res.png')\n"
      ],
      "metadata": {
        "id": "vKr3HBWHYs8r"
      },
      "execution_count": null,
      "outputs": []
    },
    {
      "cell_type": "code",
      "source": [
        "import matplotlib.pyplot as plt\n",
        "\n",
        "# Plot for 'z1'\n",
        "plt.figure(figsize=(5, 4), dpi=300)\n",
        "plt.xlim(0, 0.2)\n",
        "sc = plt.scatter(data['color_ratio'], data['incandescent_max'], c=data['z1'], s=1, cmap='viridis', alpha=0.6)\n",
        "plt.xlabel(\"Color Ratio (Arbitrary Units)\")\n",
        "plt.ylabel(\"Incandescent Maximum (Normalized)\")\n",
        "cbar = plt.colorbar(sc)\n",
        "cbar.set_label(\"z1\")\n",
        "plt.savefig('scatter_plot_z1_high_res.png', dpi=300)\n",
        "plt.show()\n",
        "\n",
        "# Plot for 'z2'\n",
        "plt.figure(figsize=(5, 4), dpi=300)\n",
        "plt.xlim(0, 0.2)\n",
        "sc = plt.scatter(data['color_ratio'], data['incandescent_max'], c=data['z2'], s=1, cmap='viridis', alpha=0.6)\n",
        "plt.xlabel(\"Color Ratio (Arbitrary Units)\")\n",
        "plt.ylabel(\"Incandescent Maximum (Normalized)\")\n",
        "cbar = plt.colorbar(sc)\n",
        "cbar.set_label(\"z2\")\n",
        "plt.savefig('scatter_plot_z2_high_res.png', dpi=300)\n",
        "plt.show()\n",
        "\n",
        "# Plot for 'z3'\n",
        "plt.figure(figsize=(5, 4), dpi=300)\n",
        "plt.xlim(0, 0.2)\n",
        "sc = plt.scatter(data['color_ratio'], data['incandescent_max'], c=data['z3'], s=1, cmap='viridis', alpha=0.6)\n",
        "plt.xlabel(\"Color Ratio (Arbitrary Units)\")\n",
        "plt.ylabel(\"Incandescent Maximum (Normalized)\")\n",
        "cbar = plt.colorbar(sc)\n",
        "cbar.set_label(\"z3\")\n",
        "plt.savefig('scatter_plot_z3_high_res.png', dpi=300)\n",
        "plt.show()\n",
        "\n",
        "# Plot for 'z4'\n",
        "plt.figure(figsize=(5, 4), dpi=300)\n",
        "plt.xlim(0, 0.2)\n",
        "sc = plt.scatter(data['color_ratio'], data['incandescent_max'], c=data['z4'], s=1, cmap='viridis', alpha=0.6)\n",
        "plt.xlabel(\"Color Ratio (Arbitrary Units)\")\n",
        "plt.ylabel(\"Incandescent Maximum (Normalized)\")\n",
        "cbar = plt.colorbar(sc)\n",
        "cbar.set_label(\"z4\")\n",
        "plt.savefig('scatter_plot_z4_high_res.png', dpi=300)\n",
        "plt.show()\n"
      ],
      "metadata": {
        "id": "sCcAakB4Yu7Z"
      },
      "execution_count": null,
      "outputs": []
    },
    {
      "cell_type": "code",
      "source": [
        "import matplotlib.pyplot as plt\n",
        "from google.colab import files\n",
        "\n",
        "fig, axes = plt.subplots(2, 2, figsize=(10, 8), dpi=300)\n",
        "fig.subplots_adjust(hspace=0.3, wspace=0.3)\n",
        "\n",
        "z_data = [data['z1'], data['z2'], data['z3'], data['z4']]\n",
        "z_labels = ['z1', 'z2', 'z3', 'z4']\n",
        "\n",
        "axes = axes.flatten()\n",
        "\n",
        "for i in range(4):\n",
        "    sc = axes[i].scatter(\n",
        "        data['color_ratio'],\n",
        "        data['incandescent_max'],\n",
        "        c=z_data[i],\n",
        "        s=1,\n",
        "        cmap='viridis',\n",
        "        alpha=0.6\n",
        "    )\n",
        "    axes[i].set_xlim(0, 0.2)\n",
        "    axes[i].set_xlabel(\"Color Ratio (Arbitrary Units)\")\n",
        "    axes[i].set_ylabel(\"Incandescent Maximum (Normalized)\")\n",
        "    cbar = fig.colorbar(sc, ax=axes[i])\n",
        "    cbar.set_label(z_labels[i])\n",
        "    # axes[i].set_title(f\"Scatter Plot Colored by {z_labels[i]}\")\n",
        "\n",
        "plt.tight_layout()\n",
        "plt.savefig(\"color_ratio_z1_to_z4.png\", dpi=300)\n",
        "plt.show()\n",
        "\n",
        "\n",
        "files.download(\"color_ratio_z1_to_z4.png\")\n"
      ],
      "metadata": {
        "id": "1knVpRCQYz0K"
      },
      "execution_count": null,
      "outputs": []
    },
    {
      "cell_type": "code",
      "source": [
        "#RANDOM FOREST\n",
        "\n",
        "from sklearn.model_selection import train_test_split\n",
        "X_train_rf, X_test_rf, y_train_rf, y_test_rf = train_test_split(X_scaled, Y_filtered, test_size=0.33, random_state=42)"
      ],
      "metadata": {
        "id": "pMwM29gGY1eI"
      },
      "execution_count": null,
      "outputs": []
    },
    {
      "cell_type": "code",
      "execution_count": null,
      "metadata": {
        "colab": {
          "base_uri": "https://localhost:8080/",
          "height": 80
        },
        "id": "sUfH6bxsZMPG",
        "outputId": "d13890d4-497c-441a-cc79-b3af9ca89acb"
      },
      "outputs": [
        {
          "output_type": "execute_result",
          "data": {
            "text/plain": [
              "RandomForestClassifier()"
            ],
            "text/html": [
              "<style>#sk-container-id-1 {\n",
              "  /* Definition of color scheme common for light and dark mode */\n",
              "  --sklearn-color-text: #000;\n",
              "  --sklearn-color-text-muted: #666;\n",
              "  --sklearn-color-line: gray;\n",
              "  /* Definition of color scheme for unfitted estimators */\n",
              "  --sklearn-color-unfitted-level-0: #fff5e6;\n",
              "  --sklearn-color-unfitted-level-1: #f6e4d2;\n",
              "  --sklearn-color-unfitted-level-2: #ffe0b3;\n",
              "  --sklearn-color-unfitted-level-3: chocolate;\n",
              "  /* Definition of color scheme for fitted estimators */\n",
              "  --sklearn-color-fitted-level-0: #f0f8ff;\n",
              "  --sklearn-color-fitted-level-1: #d4ebff;\n",
              "  --sklearn-color-fitted-level-2: #b3dbfd;\n",
              "  --sklearn-color-fitted-level-3: cornflowerblue;\n",
              "\n",
              "  /* Specific color for light theme */\n",
              "  --sklearn-color-text-on-default-background: var(--sg-text-color, var(--theme-code-foreground, var(--jp-content-font-color1, black)));\n",
              "  --sklearn-color-background: var(--sg-background-color, var(--theme-background, var(--jp-layout-color0, white)));\n",
              "  --sklearn-color-border-box: var(--sg-text-color, var(--theme-code-foreground, var(--jp-content-font-color1, black)));\n",
              "  --sklearn-color-icon: #696969;\n",
              "\n",
              "  @media (prefers-color-scheme: dark) {\n",
              "    /* Redefinition of color scheme for dark theme */\n",
              "    --sklearn-color-text-on-default-background: var(--sg-text-color, var(--theme-code-foreground, var(--jp-content-font-color1, white)));\n",
              "    --sklearn-color-background: var(--sg-background-color, var(--theme-background, var(--jp-layout-color0, #111)));\n",
              "    --sklearn-color-border-box: var(--sg-text-color, var(--theme-code-foreground, var(--jp-content-font-color1, white)));\n",
              "    --sklearn-color-icon: #878787;\n",
              "  }\n",
              "}\n",
              "\n",
              "#sk-container-id-1 {\n",
              "  color: var(--sklearn-color-text);\n",
              "}\n",
              "\n",
              "#sk-container-id-1 pre {\n",
              "  padding: 0;\n",
              "}\n",
              "\n",
              "#sk-container-id-1 input.sk-hidden--visually {\n",
              "  border: 0;\n",
              "  clip: rect(1px 1px 1px 1px);\n",
              "  clip: rect(1px, 1px, 1px, 1px);\n",
              "  height: 1px;\n",
              "  margin: -1px;\n",
              "  overflow: hidden;\n",
              "  padding: 0;\n",
              "  position: absolute;\n",
              "  width: 1px;\n",
              "}\n",
              "\n",
              "#sk-container-id-1 div.sk-dashed-wrapped {\n",
              "  border: 1px dashed var(--sklearn-color-line);\n",
              "  margin: 0 0.4em 0.5em 0.4em;\n",
              "  box-sizing: border-box;\n",
              "  padding-bottom: 0.4em;\n",
              "  background-color: var(--sklearn-color-background);\n",
              "}\n",
              "\n",
              "#sk-container-id-1 div.sk-container {\n",
              "  /* jupyter's `normalize.less` sets `[hidden] { display: none; }`\n",
              "     but bootstrap.min.css set `[hidden] { display: none !important; }`\n",
              "     so we also need the `!important` here to be able to override the\n",
              "     default hidden behavior on the sphinx rendered scikit-learn.org.\n",
              "     See: https://github.com/scikit-learn/scikit-learn/issues/21755 */\n",
              "  display: inline-block !important;\n",
              "  position: relative;\n",
              "}\n",
              "\n",
              "#sk-container-id-1 div.sk-text-repr-fallback {\n",
              "  display: none;\n",
              "}\n",
              "\n",
              "div.sk-parallel-item,\n",
              "div.sk-serial,\n",
              "div.sk-item {\n",
              "  /* draw centered vertical line to link estimators */\n",
              "  background-image: linear-gradient(var(--sklearn-color-text-on-default-background), var(--sklearn-color-text-on-default-background));\n",
              "  background-size: 2px 100%;\n",
              "  background-repeat: no-repeat;\n",
              "  background-position: center center;\n",
              "}\n",
              "\n",
              "/* Parallel-specific style estimator block */\n",
              "\n",
              "#sk-container-id-1 div.sk-parallel-item::after {\n",
              "  content: \"\";\n",
              "  width: 100%;\n",
              "  border-bottom: 2px solid var(--sklearn-color-text-on-default-background);\n",
              "  flex-grow: 1;\n",
              "}\n",
              "\n",
              "#sk-container-id-1 div.sk-parallel {\n",
              "  display: flex;\n",
              "  align-items: stretch;\n",
              "  justify-content: center;\n",
              "  background-color: var(--sklearn-color-background);\n",
              "  position: relative;\n",
              "}\n",
              "\n",
              "#sk-container-id-1 div.sk-parallel-item {\n",
              "  display: flex;\n",
              "  flex-direction: column;\n",
              "}\n",
              "\n",
              "#sk-container-id-1 div.sk-parallel-item:first-child::after {\n",
              "  align-self: flex-end;\n",
              "  width: 50%;\n",
              "}\n",
              "\n",
              "#sk-container-id-1 div.sk-parallel-item:last-child::after {\n",
              "  align-self: flex-start;\n",
              "  width: 50%;\n",
              "}\n",
              "\n",
              "#sk-container-id-1 div.sk-parallel-item:only-child::after {\n",
              "  width: 0;\n",
              "}\n",
              "\n",
              "/* Serial-specific style estimator block */\n",
              "\n",
              "#sk-container-id-1 div.sk-serial {\n",
              "  display: flex;\n",
              "  flex-direction: column;\n",
              "  align-items: center;\n",
              "  background-color: var(--sklearn-color-background);\n",
              "  padding-right: 1em;\n",
              "  padding-left: 1em;\n",
              "}\n",
              "\n",
              "\n",
              "/* Toggleable style: style used for estimator/Pipeline/ColumnTransformer box that is\n",
              "clickable and can be expanded/collapsed.\n",
              "- Pipeline and ColumnTransformer use this feature and define the default style\n",
              "- Estimators will overwrite some part of the style using the `sk-estimator` class\n",
              "*/\n",
              "\n",
              "/* Pipeline and ColumnTransformer style (default) */\n",
              "\n",
              "#sk-container-id-1 div.sk-toggleable {\n",
              "  /* Default theme specific background. It is overwritten whether we have a\n",
              "  specific estimator or a Pipeline/ColumnTransformer */\n",
              "  background-color: var(--sklearn-color-background);\n",
              "}\n",
              "\n",
              "/* Toggleable label */\n",
              "#sk-container-id-1 label.sk-toggleable__label {\n",
              "  cursor: pointer;\n",
              "  display: flex;\n",
              "  width: 100%;\n",
              "  margin-bottom: 0;\n",
              "  padding: 0.5em;\n",
              "  box-sizing: border-box;\n",
              "  text-align: center;\n",
              "  align-items: start;\n",
              "  justify-content: space-between;\n",
              "  gap: 0.5em;\n",
              "}\n",
              "\n",
              "#sk-container-id-1 label.sk-toggleable__label .caption {\n",
              "  font-size: 0.6rem;\n",
              "  font-weight: lighter;\n",
              "  color: var(--sklearn-color-text-muted);\n",
              "}\n",
              "\n",
              "#sk-container-id-1 label.sk-toggleable__label-arrow:before {\n",
              "  /* Arrow on the left of the label */\n",
              "  content: \"▸\";\n",
              "  float: left;\n",
              "  margin-right: 0.25em;\n",
              "  color: var(--sklearn-color-icon);\n",
              "}\n",
              "\n",
              "#sk-container-id-1 label.sk-toggleable__label-arrow:hover:before {\n",
              "  color: var(--sklearn-color-text);\n",
              "}\n",
              "\n",
              "/* Toggleable content - dropdown */\n",
              "\n",
              "#sk-container-id-1 div.sk-toggleable__content {\n",
              "  max-height: 0;\n",
              "  max-width: 0;\n",
              "  overflow: hidden;\n",
              "  text-align: left;\n",
              "  /* unfitted */\n",
              "  background-color: var(--sklearn-color-unfitted-level-0);\n",
              "}\n",
              "\n",
              "#sk-container-id-1 div.sk-toggleable__content.fitted {\n",
              "  /* fitted */\n",
              "  background-color: var(--sklearn-color-fitted-level-0);\n",
              "}\n",
              "\n",
              "#sk-container-id-1 div.sk-toggleable__content pre {\n",
              "  margin: 0.2em;\n",
              "  border-radius: 0.25em;\n",
              "  color: var(--sklearn-color-text);\n",
              "  /* unfitted */\n",
              "  background-color: var(--sklearn-color-unfitted-level-0);\n",
              "}\n",
              "\n",
              "#sk-container-id-1 div.sk-toggleable__content.fitted pre {\n",
              "  /* unfitted */\n",
              "  background-color: var(--sklearn-color-fitted-level-0);\n",
              "}\n",
              "\n",
              "#sk-container-id-1 input.sk-toggleable__control:checked~div.sk-toggleable__content {\n",
              "  /* Expand drop-down */\n",
              "  max-height: 200px;\n",
              "  max-width: 100%;\n",
              "  overflow: auto;\n",
              "}\n",
              "\n",
              "#sk-container-id-1 input.sk-toggleable__control:checked~label.sk-toggleable__label-arrow:before {\n",
              "  content: \"▾\";\n",
              "}\n",
              "\n",
              "/* Pipeline/ColumnTransformer-specific style */\n",
              "\n",
              "#sk-container-id-1 div.sk-label input.sk-toggleable__control:checked~label.sk-toggleable__label {\n",
              "  color: var(--sklearn-color-text);\n",
              "  background-color: var(--sklearn-color-unfitted-level-2);\n",
              "}\n",
              "\n",
              "#sk-container-id-1 div.sk-label.fitted input.sk-toggleable__control:checked~label.sk-toggleable__label {\n",
              "  background-color: var(--sklearn-color-fitted-level-2);\n",
              "}\n",
              "\n",
              "/* Estimator-specific style */\n",
              "\n",
              "/* Colorize estimator box */\n",
              "#sk-container-id-1 div.sk-estimator input.sk-toggleable__control:checked~label.sk-toggleable__label {\n",
              "  /* unfitted */\n",
              "  background-color: var(--sklearn-color-unfitted-level-2);\n",
              "}\n",
              "\n",
              "#sk-container-id-1 div.sk-estimator.fitted input.sk-toggleable__control:checked~label.sk-toggleable__label {\n",
              "  /* fitted */\n",
              "  background-color: var(--sklearn-color-fitted-level-2);\n",
              "}\n",
              "\n",
              "#sk-container-id-1 div.sk-label label.sk-toggleable__label,\n",
              "#sk-container-id-1 div.sk-label label {\n",
              "  /* The background is the default theme color */\n",
              "  color: var(--sklearn-color-text-on-default-background);\n",
              "}\n",
              "\n",
              "/* On hover, darken the color of the background */\n",
              "#sk-container-id-1 div.sk-label:hover label.sk-toggleable__label {\n",
              "  color: var(--sklearn-color-text);\n",
              "  background-color: var(--sklearn-color-unfitted-level-2);\n",
              "}\n",
              "\n",
              "/* Label box, darken color on hover, fitted */\n",
              "#sk-container-id-1 div.sk-label.fitted:hover label.sk-toggleable__label.fitted {\n",
              "  color: var(--sklearn-color-text);\n",
              "  background-color: var(--sklearn-color-fitted-level-2);\n",
              "}\n",
              "\n",
              "/* Estimator label */\n",
              "\n",
              "#sk-container-id-1 div.sk-label label {\n",
              "  font-family: monospace;\n",
              "  font-weight: bold;\n",
              "  display: inline-block;\n",
              "  line-height: 1.2em;\n",
              "}\n",
              "\n",
              "#sk-container-id-1 div.sk-label-container {\n",
              "  text-align: center;\n",
              "}\n",
              "\n",
              "/* Estimator-specific */\n",
              "#sk-container-id-1 div.sk-estimator {\n",
              "  font-family: monospace;\n",
              "  border: 1px dotted var(--sklearn-color-border-box);\n",
              "  border-radius: 0.25em;\n",
              "  box-sizing: border-box;\n",
              "  margin-bottom: 0.5em;\n",
              "  /* unfitted */\n",
              "  background-color: var(--sklearn-color-unfitted-level-0);\n",
              "}\n",
              "\n",
              "#sk-container-id-1 div.sk-estimator.fitted {\n",
              "  /* fitted */\n",
              "  background-color: var(--sklearn-color-fitted-level-0);\n",
              "}\n",
              "\n",
              "/* on hover */\n",
              "#sk-container-id-1 div.sk-estimator:hover {\n",
              "  /* unfitted */\n",
              "  background-color: var(--sklearn-color-unfitted-level-2);\n",
              "}\n",
              "\n",
              "#sk-container-id-1 div.sk-estimator.fitted:hover {\n",
              "  /* fitted */\n",
              "  background-color: var(--sklearn-color-fitted-level-2);\n",
              "}\n",
              "\n",
              "/* Specification for estimator info (e.g. \"i\" and \"?\") */\n",
              "\n",
              "/* Common style for \"i\" and \"?\" */\n",
              "\n",
              ".sk-estimator-doc-link,\n",
              "a:link.sk-estimator-doc-link,\n",
              "a:visited.sk-estimator-doc-link {\n",
              "  float: right;\n",
              "  font-size: smaller;\n",
              "  line-height: 1em;\n",
              "  font-family: monospace;\n",
              "  background-color: var(--sklearn-color-background);\n",
              "  border-radius: 1em;\n",
              "  height: 1em;\n",
              "  width: 1em;\n",
              "  text-decoration: none !important;\n",
              "  margin-left: 0.5em;\n",
              "  text-align: center;\n",
              "  /* unfitted */\n",
              "  border: var(--sklearn-color-unfitted-level-1) 1pt solid;\n",
              "  color: var(--sklearn-color-unfitted-level-1);\n",
              "}\n",
              "\n",
              ".sk-estimator-doc-link.fitted,\n",
              "a:link.sk-estimator-doc-link.fitted,\n",
              "a:visited.sk-estimator-doc-link.fitted {\n",
              "  /* fitted */\n",
              "  border: var(--sklearn-color-fitted-level-1) 1pt solid;\n",
              "  color: var(--sklearn-color-fitted-level-1);\n",
              "}\n",
              "\n",
              "/* On hover */\n",
              "div.sk-estimator:hover .sk-estimator-doc-link:hover,\n",
              ".sk-estimator-doc-link:hover,\n",
              "div.sk-label-container:hover .sk-estimator-doc-link:hover,\n",
              ".sk-estimator-doc-link:hover {\n",
              "  /* unfitted */\n",
              "  background-color: var(--sklearn-color-unfitted-level-3);\n",
              "  color: var(--sklearn-color-background);\n",
              "  text-decoration: none;\n",
              "}\n",
              "\n",
              "div.sk-estimator.fitted:hover .sk-estimator-doc-link.fitted:hover,\n",
              ".sk-estimator-doc-link.fitted:hover,\n",
              "div.sk-label-container:hover .sk-estimator-doc-link.fitted:hover,\n",
              ".sk-estimator-doc-link.fitted:hover {\n",
              "  /* fitted */\n",
              "  background-color: var(--sklearn-color-fitted-level-3);\n",
              "  color: var(--sklearn-color-background);\n",
              "  text-decoration: none;\n",
              "}\n",
              "\n",
              "/* Span, style for the box shown on hovering the info icon */\n",
              ".sk-estimator-doc-link span {\n",
              "  display: none;\n",
              "  z-index: 9999;\n",
              "  position: relative;\n",
              "  font-weight: normal;\n",
              "  right: .2ex;\n",
              "  padding: .5ex;\n",
              "  margin: .5ex;\n",
              "  width: min-content;\n",
              "  min-width: 20ex;\n",
              "  max-width: 50ex;\n",
              "  color: var(--sklearn-color-text);\n",
              "  box-shadow: 2pt 2pt 4pt #999;\n",
              "  /* unfitted */\n",
              "  background: var(--sklearn-color-unfitted-level-0);\n",
              "  border: .5pt solid var(--sklearn-color-unfitted-level-3);\n",
              "}\n",
              "\n",
              ".sk-estimator-doc-link.fitted span {\n",
              "  /* fitted */\n",
              "  background: var(--sklearn-color-fitted-level-0);\n",
              "  border: var(--sklearn-color-fitted-level-3);\n",
              "}\n",
              "\n",
              ".sk-estimator-doc-link:hover span {\n",
              "  display: block;\n",
              "}\n",
              "\n",
              "/* \"?\"-specific style due to the `<a>` HTML tag */\n",
              "\n",
              "#sk-container-id-1 a.estimator_doc_link {\n",
              "  float: right;\n",
              "  font-size: 1rem;\n",
              "  line-height: 1em;\n",
              "  font-family: monospace;\n",
              "  background-color: var(--sklearn-color-background);\n",
              "  border-radius: 1rem;\n",
              "  height: 1rem;\n",
              "  width: 1rem;\n",
              "  text-decoration: none;\n",
              "  /* unfitted */\n",
              "  color: var(--sklearn-color-unfitted-level-1);\n",
              "  border: var(--sklearn-color-unfitted-level-1) 1pt solid;\n",
              "}\n",
              "\n",
              "#sk-container-id-1 a.estimator_doc_link.fitted {\n",
              "  /* fitted */\n",
              "  border: var(--sklearn-color-fitted-level-1) 1pt solid;\n",
              "  color: var(--sklearn-color-fitted-level-1);\n",
              "}\n",
              "\n",
              "/* On hover */\n",
              "#sk-container-id-1 a.estimator_doc_link:hover {\n",
              "  /* unfitted */\n",
              "  background-color: var(--sklearn-color-unfitted-level-3);\n",
              "  color: var(--sklearn-color-background);\n",
              "  text-decoration: none;\n",
              "}\n",
              "\n",
              "#sk-container-id-1 a.estimator_doc_link.fitted:hover {\n",
              "  /* fitted */\n",
              "  background-color: var(--sklearn-color-fitted-level-3);\n",
              "}\n",
              "</style><div id=\"sk-container-id-1\" class=\"sk-top-container\"><div class=\"sk-text-repr-fallback\"><pre>RandomForestClassifier()</pre><b>In a Jupyter environment, please rerun this cell to show the HTML representation or trust the notebook. <br />On GitHub, the HTML representation is unable to render, please try loading this page with nbviewer.org.</b></div><div class=\"sk-container\" hidden><div class=\"sk-item\"><div class=\"sk-estimator fitted sk-toggleable\"><input class=\"sk-toggleable__control sk-hidden--visually\" id=\"sk-estimator-id-1\" type=\"checkbox\" checked><label for=\"sk-estimator-id-1\" class=\"sk-toggleable__label fitted sk-toggleable__label-arrow\"><div><div>RandomForestClassifier</div></div><div><a class=\"sk-estimator-doc-link fitted\" rel=\"noreferrer\" target=\"_blank\" href=\"https://scikit-learn.org/1.6/modules/generated/sklearn.ensemble.RandomForestClassifier.html\">?<span>Documentation for RandomForestClassifier</span></a><span class=\"sk-estimator-doc-link fitted\">i<span>Fitted</span></span></div></label><div class=\"sk-toggleable__content fitted\"><pre>RandomForestClassifier()</pre></div> </div></div></div></div>"
            ]
          },
          "metadata": {},
          "execution_count": 73
        }
      ],
      "source": [
        "from sklearn.ensemble import RandomForestClassifier\n",
        "rf = RandomForestClassifier()\n",
        "rf.fit(X_train_rf, y_train_rf)"
      ]
    },
    {
      "cell_type": "code",
      "execution_count": null,
      "metadata": {
        "id": "G0G9n9EjaHtV"
      },
      "outputs": [],
      "source": [
        "y_output = rf.predict(X_test_rf)"
      ]
    },
    {
      "cell_type": "code",
      "source": [
        "# RANDOM FOREST Confusion matrix\n",
        "\n",
        "from sklearn.metrics import confusion_matrix\n",
        "import seaborn as sns\n",
        "import matplotlib.pyplot as plt\n",
        "from google.colab import files\n",
        "\n",
        "target_names = [\"FS\", \"FSglyc\", \"CFA\", \"ATD\", \"VA\", \"Fe2O3\", \"Fe3O4\"]\n",
        "correlation_arr = confusion_matrix(y_output, y_test_rf, normalize='true')\n",
        "\n",
        "plt.figure(figsize=(10, 8), dpi=300)\n",
        "ax = sns.heatmap(\n",
        "    correlation_arr,\n",
        "    annot=True,\n",
        "    fmt=\".2%\",\n",
        "    cmap='viridis',\n",
        "    xticklabels=target_names,\n",
        "    yticklabels=target_names\n",
        ")\n",
        "ax.set_title('Confusion Matrix with Normalized Percentages')\n",
        "ax.set_ylabel('Predicted Label')\n",
        "ax.set_xlabel('True Label')\n",
        "\n",
        "plt.savefig('confusion_matrix_high_res.png', dpi=300)\n",
        "plt.show()\n",
        "files.download('confusion_matrix_high_res.png')\n"
      ],
      "metadata": {
        "id": "Jl2qnf2oY3rW"
      },
      "execution_count": null,
      "outputs": []
    }
  ],
  "metadata": {
    "accelerator": "GPU",
    "colab": {
      "machine_shape": "hm",
      "provenance": []
    },
    "kernelspec": {
      "display_name": "Python 3",
      "name": "python3"
    },
    "language_info": {
      "codemirror_mode": {
        "name": "ipython",
        "version": 3
      },
      "file_extension": ".py",
      "mimetype": "text/x-python",
      "name": "python",
      "nbconvert_exporter": "python",
      "pygments_lexer": "ipython3",
      "version": "3.9.5"
    },
    "vscode": {
      "interpreter": {
        "hash": "e7744d09bfe7dc594d00fddd9e4eccdb181c369ffdc8ab8a8842eb5bc5bd1708"
      }
    }
  },
  "nbformat": 4,
  "nbformat_minor": 0
}
